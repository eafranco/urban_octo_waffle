{
 "cells": [
  {
   "cell_type": "markdown",
   "id": "ce0c842e-ad0e-4a01-8e2a-3afb86c47fa8",
   "metadata": {},
   "source": [
    "# Data Science Tools and Ecosystem "
   ]
  },
  {
   "cell_type": "markdown",
   "id": "fcdedc7a-fbf0-4146-a7b0-7a3d71a770d5",
   "metadata": {},
   "source": [
    "In this notebook, Data Science Tools and Ecosystem are summarized."
   ]
  },
  {
   "cell_type": "markdown",
   "id": "2e4638fe-30ed-45da-b013-07578f643313",
   "metadata": {},
   "source": [
    "## Author: \n",
    "Enrique Ayala"
   ]
  },
  {
   "cell_type": "markdown",
   "id": "71c599c0-96ed-455a-bdd9-564b848e4af6",
   "metadata": {},
   "source": [
    "**Objectives:** \n",
    "* Popular languajes for data scientist\n",
    "* Common libraries\n",
    "* Tools\n",
    "* And more"
   ]
  },
  {
   "cell_type": "markdown",
   "id": "b8eeb806-da87-4a52-82a1-9789d0405008",
   "metadata": {},
   "source": [
    "Some of the popular languages that Data Scientists use are:\n",
    "1. Python\n",
    "2. JavaScript\n",
    "3. R\n",
    "4. Julia\n"
   ]
  },
  {
   "cell_type": "markdown",
   "id": "1a7ceccd-5ad2-4991-9cea-4b9800383203",
   "metadata": {},
   "source": [
    "Some of the commonly used libraries used by Data Scientists include:\n",
    "1. Pandas\n",
    "2. Numpy\n",
    "3. Plotly\n",
    "4. Scikit-learn"
   ]
  },
  {
   "cell_type": "markdown",
   "id": "8131fbba-4bf6-4d52-a072-4fd73739d1d4",
   "metadata": {},
   "source": [
    "\n",
    "|Data Science Tools|\n",
    "-------------------\n",
    "| RStudio |\n",
    "|Apache Spark|\n",
    "|TensorFlow|\n",
    "|Apache Hadoop|\n"
   ]
  },
  {
   "cell_type": "markdown",
   "id": "d381ff31-71eb-4fc6-94e1-0e636ac18d93",
   "metadata": {},
   "source": [
    "### Below are a few examples of evaluating arithmetic expressions in Python:"
   ]
  },
  {
   "cell_type": "code",
   "execution_count": 2,
   "id": "b9cabe6d-13c3-4384-bbcb-09bb2fd4382f",
   "metadata": {
    "tags": []
   },
   "outputs": [
    {
     "data": {
      "text/plain": [
       "17"
      ]
     },
     "execution_count": 2,
     "metadata": {},
     "output_type": "execute_result"
    }
   ],
   "source": [
    "# This a simple arithmetic expression to mutiply then add integers\n",
    "(3*4)+5"
   ]
  },
  {
   "cell_type": "code",
   "execution_count": 3,
   "id": "4e7b8766-ad27-4e03-8217-98e169654d7b",
   "metadata": {
    "tags": []
   },
   "outputs": [
    {
     "data": {
      "text/plain": [
       "3.3333333333333335"
      ]
     },
     "execution_count": 3,
     "metadata": {},
     "output_type": "execute_result"
    }
   ],
   "source": [
    "# This will convert 200 minutes to hours by diving by 60\n",
    "200/60"
   ]
  }
 ],
 "metadata": {
  "kernelspec": {
   "display_name": "Python",
   "language": "python",
   "name": "conda-env-python-py"
  },
  "language_info": {
   "codemirror_mode": {
    "name": "ipython",
    "version": 3
   },
   "file_extension": ".py",
   "mimetype": "text/x-python",
   "name": "python",
   "nbconvert_exporter": "python",
   "pygments_lexer": "ipython3",
   "version": "3.7.12"
  }
 },
 "nbformat": 4,
 "nbformat_minor": 5
}
